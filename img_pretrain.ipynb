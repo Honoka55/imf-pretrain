{
 "cells": [
  {
   "cell_type": "code",
   "execution_count": null,
   "id": "initial_id",
   "metadata": {
    "collapsed": true
   },
   "outputs": [],
   "source": [
    "import torch\n",
    "import torchvision.models as models\n",
    "import torchvision.transforms as transforms\n",
    "from PIL import Image\n",
    "\n",
    "# 加载预训练的 VGG16 模型\n",
    "vgg16 = models.vgg16(pretrained=True)\n",
    "# 设置模型为评估模式\n",
    "vgg16.eval()\n",
    "\n",
    "# 定义数据转换和预处理操作\n",
    "transform = transforms.Compose([\n",
    "    transforms.Resize(256),\n",
    "    transforms.CenterCrop(224),\n",
    "    transforms.ToTensor(),\n",
    "    transforms.Normalize(mean=[0.485, 0.456, 0.406], std=[0.229, 0.224, 0.225])\n",
    "])\n",
    "\n",
    "# 加载图像\n",
    "image = Image.open('path/to/image.jpg')\n",
    "\n",
    "# 对图像进行预处理\n",
    "image = transform(image)\n",
    "# 添加批次维度\n",
    "image = image.unsqueeze(0)\n",
    "\n",
    "# 使用 VGG16 模型提取特征向量\n",
    "features = vgg16(image)\n",
    "# 获取最后一个隐藏层的输出\n",
    "visual_features = features.squeeze().detach().numpy()\n",
    "\n",
    "print(visual_features)\n"
   ]
  }
 ],
 "metadata": {
  "kernelspec": {
   "display_name": "Python 3",
   "language": "python",
   "name": "python3"
  },
  "language_info": {
   "codemirror_mode": {
    "name": "ipython",
    "version": 2
   },
   "file_extension": ".py",
   "mimetype": "text/x-python",
   "name": "python",
   "nbconvert_exporter": "python",
   "pygments_lexer": "ipython2",
   "version": "2.7.6"
  }
 },
 "nbformat": 4,
 "nbformat_minor": 5
}
