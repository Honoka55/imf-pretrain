{
 "cells": [
  {
   "cell_type": "code",
   "execution_count": 1,
   "id": "initial_id",
   "metadata": {
    "collapsed": true,
    "ExecuteTime": {
     "end_time": "2023-11-12T12:44:52.310110200Z",
     "start_time": "2023-11-12T12:44:52.299118600Z"
    }
   },
   "outputs": [],
   "source": [
    "import pickle\n",
    "\n",
    "def read_pickle(path):\n",
    "    with open(path, 'rb') as f:\n",
    "        data = pickle.load(f)\n",
    "        print(data)\n"
   ]
  },
  {
   "cell_type": "code",
   "execution_count": 6,
   "outputs": [],
   "source": [
    "def read_pickle_dimension(path):\n",
    "    with open(path, 'rb') as f:\n",
    "        data = pickle.load(f)\n",
    "        print('number of data in', path, ': ', len(data))\n",
    "        print('dimension of data in', path, ': ', len(data[0]))\n"
   ],
   "metadata": {
    "collapsed": false,
    "ExecuteTime": {
     "end_time": "2023-11-12T12:48:26.536055Z",
     "start_time": "2023-11-12T12:48:26.520888300Z"
    }
   },
   "id": "865027dd93c1efd9"
  },
  {
   "cell_type": "code",
   "execution_count": 5,
   "outputs": [
    {
     "name": "stdout",
     "output_type": "stream",
     "text": [
      "[[0.        0.        0.        ... 0.        0.        0.5510511]]\n"
     ]
    }
   ],
   "source": [
    "read_pickle('img_features.pkl')"
   ],
   "metadata": {
    "collapsed": false,
    "ExecuteTime": {
     "end_time": "2023-11-12T12:22:09.972975100Z",
     "start_time": "2023-11-12T12:22:09.961960Z"
    }
   },
   "id": "93b1990e4672f6d1"
  },
  {
   "cell_type": "code",
   "execution_count": 9,
   "outputs": [
    {
     "name": "stderr",
     "output_type": "stream",
     "text": [
      "IOPub data rate exceeded.\n",
      "The notebook server will temporarily stop sending output\n",
      "to the client in order to avoid crashing it.\n",
      "To change this limit, set the config variable\n",
      "`--NotebookApp.iopub_data_rate_limit`.\n",
      "\n",
      "Current values:\n",
      "NotebookApp.iopub_data_rate_limit=1000000.0 (bytes/sec)\n",
      "NotebookApp.rate_limit_window=3.0 (secs)\n",
      "\n"
     ]
    }
   ],
   "source": [
    "read_pickle('FB15K/img_features.pkl')"
   ],
   "metadata": {
    "collapsed": false,
    "ExecuteTime": {
     "end_time": "2023-11-12T12:26:52.896327100Z",
     "start_time": "2023-11-12T12:26:35.743812300Z"
    }
   },
   "id": "ce0d2bbfc87029b7"
  },
  {
   "cell_type": "code",
   "execution_count": 8,
   "outputs": [
    {
     "name": "stdout",
     "output_type": "stream",
     "text": [
      "[[ 2.57633358e-01 -6.80703521e-01 -8.57194662e-01 ...  1.50811350e+00\n",
      "   2.97793567e-01  2.74981350e-01]\n",
      " [-2.84094632e-01 -4.92505342e-01 -5.67634225e-01 ...  6.18106365e-01\n",
      "   6.38924837e-01  4.26120460e-01]\n",
      " [-4.64372383e-03 -6.26797378e-01  1.27316654e-01 ...  8.29283416e-01\n",
      "   7.98556685e-01  2.38184646e-01]\n",
      " ...\n",
      " [ 7.02933874e-04  2.69760579e-01 -8.47841054e-02 ...  8.27042609e-02\n",
      "   6.23918533e-01  2.74186254e-01]\n",
      " [-5.49657419e-02 -4.70237166e-01  7.46004283e-02 ...  1.22757316e-01\n",
      "   2.09319908e-02  7.64795899e-01]\n",
      " [ 3.19189131e-01  3.72805819e-02 -5.14587104e-01 ...  5.41601181e-01\n",
      "   5.23201525e-01  7.92484045e-01]]\n"
     ]
    }
   ],
   "source": [
    "read_pickle('DB15K/text_features.pkl')"
   ],
   "metadata": {
    "collapsed": false,
    "ExecuteTime": {
     "end_time": "2023-11-12T12:25:26.984731300Z",
     "start_time": "2023-11-12T12:25:26.903385800Z"
    }
   },
   "id": "aff9fb5c8ab1c2eb"
  },
  {
   "cell_type": "code",
   "execution_count": 7,
   "outputs": [
    {
     "name": "stdout",
     "output_type": "stream",
     "text": [
      "number of data in DB15K/img_features.pkl :  12841\n",
      "dimension of data in DB15K/img_features.pkl :  4096\n"
     ]
    }
   ],
   "source": [
    "read_pickle_dimension('DB15K/img_features.pkl')"
   ],
   "metadata": {
    "collapsed": false,
    "ExecuteTime": {
     "end_time": "2023-11-12T12:48:57.228757100Z",
     "start_time": "2023-11-12T12:48:28.449981900Z"
    }
   },
   "id": "89ca95bffcbcaaf2"
  },
  {
   "cell_type": "code",
   "execution_count": 8,
   "outputs": [
    {
     "name": "stdout",
     "output_type": "stream",
     "text": [
      "number of data in DB15K/text_features.pkl :  12832\n",
      "dimension of data in DB15K/text_features.pkl :  768\n"
     ]
    }
   ],
   "source": [
    "read_pickle_dimension('DB15K/text_features.pkl')"
   ],
   "metadata": {
    "collapsed": false,
    "ExecuteTime": {
     "end_time": "2023-11-12T12:48:57.493377700Z",
     "start_time": "2023-11-12T12:48:57.233759800Z"
    }
   },
   "id": "38fc204968ea2a85"
  },
  {
   "cell_type": "code",
   "execution_count": 9,
   "outputs": [
    {
     "name": "stdout",
     "output_type": "stream",
     "text": [
      "number of data in DB15K/img_features.pkl :  12842\n",
      "dimension of data in DB15K/img_features.pkl :  4096\n"
     ]
    }
   ],
   "source": [
    "read_pickle_dimension('DB15K/img_features.pkl')"
   ],
   "metadata": {
    "collapsed": false,
    "ExecuteTime": {
     "end_time": "2023-11-12T13:34:25.480733900Z",
     "start_time": "2023-11-12T13:34:22.453569800Z"
    }
   },
   "id": "ba3146626850ba8"
  }
 ],
 "metadata": {
  "kernelspec": {
   "display_name": "Python 3",
   "language": "python",
   "name": "python3"
  },
  "language_info": {
   "codemirror_mode": {
    "name": "ipython",
    "version": 2
   },
   "file_extension": ".py",
   "mimetype": "text/x-python",
   "name": "python",
   "nbconvert_exporter": "python",
   "pygments_lexer": "ipython2",
   "version": "2.7.6"
  }
 },
 "nbformat": 4,
 "nbformat_minor": 5
}
