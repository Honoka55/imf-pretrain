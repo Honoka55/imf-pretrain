{
 "cells": [
  {
   "cell_type": "code",
   "execution_count": 1,
   "id": "initial_id",
   "metadata": {
    "collapsed": true,
    "ExecuteTime": {
     "end_time": "2023-11-12T10:26:49.241665500Z",
     "start_time": "2023-11-12T10:26:49.204663600Z"
    }
   },
   "outputs": [],
   "source": [
    "import pickle\n",
    "\n",
    "def read_pickle(path):\n",
    "    with open(path, 'rb') as f:\n",
    "        data = pickle.load(f)\n",
    "        print(data)"
   ]
  },
  {
   "cell_type": "code",
   "execution_count": 4,
   "outputs": [
    {
     "name": "stdout",
     "output_type": "stream",
     "text": [
      "[[ 0.25763336 -0.6807035  -0.85719466 ...  1.5081135   0.29779357\n",
      "   0.27498135]\n",
      " [-0.28409463 -0.49250534 -0.5676342  ...  0.61810637  0.63892484\n",
      "   0.42612046]\n",
      " [-0.00464372 -0.6267974   0.12731665 ...  0.8292834   0.7985567\n",
      "   0.23818465]\n",
      " ...\n",
      " [-0.29965213 -0.39735404 -0.84167016 ...  1.2302731   0.6737087\n",
      "   0.65592283]\n",
      " [-0.38666716 -0.39786136 -0.44723848 ...  0.51786035  0.75246894\n",
      "   0.32153305]\n",
      " [-0.23963955 -0.2783931  -0.6362583  ...  0.24765162  0.84757173\n",
      "   0.5067932 ]]\n"
     ]
    }
   ],
   "source": [
    "read_pickle('text_features1.pkl')"
   ],
   "metadata": {
    "collapsed": false,
    "ExecuteTime": {
     "end_time": "2023-11-12T10:27:02.915832600Z",
     "start_time": "2023-11-12T10:27:02.905857600Z"
    }
   },
   "id": "93b1990e4672f6d1"
  }
 ],
 "metadata": {
  "kernelspec": {
   "display_name": "Python 3",
   "language": "python",
   "name": "python3"
  },
  "language_info": {
   "codemirror_mode": {
    "name": "ipython",
    "version": 2
   },
   "file_extension": ".py",
   "mimetype": "text/x-python",
   "name": "python",
   "nbconvert_exporter": "python",
   "pygments_lexer": "ipython2",
   "version": "2.7.6"
  }
 },
 "nbformat": 4,
 "nbformat_minor": 5
}
